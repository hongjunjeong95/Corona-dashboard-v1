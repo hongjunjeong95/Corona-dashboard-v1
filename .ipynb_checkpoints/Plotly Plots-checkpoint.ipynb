{
 "cells": [
  {
   "cell_type": "code",
   "execution_count": 18,
   "metadata": {
    "scrolled": true
   },
   "outputs": [
    {
     "name": "stdout",
     "output_type": "stream",
     "text": [
      "  Country_Region  Confirmed  Deaths  Recovered\n",
      "0             US   12088410  255861    4529700\n",
      "1          India    9095806  133227    8521617\n",
      "2         Brazil    6052786  168989    5437189\n",
      "3         France    2178023   48593     156755\n",
      "4         Russia    2047563   35442    1564897\n"
     ]
    },
    {
     "data": {
      "application/vnd.plotly.v1+json": {
       "config": {
        "plotlyServerURL": "https://plot.ly"
       },
       "data": [
        {
         "customdata": [
          [
           "US",
           12088410,
           4529700,
           255861
          ],
          [
           "India",
           9095806,
           8521617,
           133227
          ],
          [
           "Brazil",
           6052786,
           5437189,
           168989
          ],
          [
           "France",
           2178023,
           156755,
           48593
          ],
          [
           "Russia",
           2047563,
           1564897,
           35442
          ],
          [
           "Spain",
           1556730,
           150376,
           42619
          ],
          [
           "United Kingdom",
           1497135,
           3310,
           54721
          ],
          [
           "Italy",
           1380531,
           539524,
           49261
          ],
          [
           "Argentina",
           1366182,
           1187053,
           36902
          ],
          [
           "Colombia",
           1240493,
           1144923,
           35104
          ],
          [
           "Mexico",
           1025969,
           770728,
           100823
          ],
          [
           "Peru",
           948081,
           873970,
           35549
          ],
          [
           "Germany",
           927990,
           600991,
           14061
          ],
          [
           "Poland",
           843475,
           407075,
           13288
          ],
          [
           "Iran",
           841308,
           596136,
           44327
          ],
          [
           "South Africa",
           765409,
           707784,
           20845
          ],
          [
           "Ukraine",
           629850,
           294851,
           11149
          ],
          [
           "Belgium",
           556904,
           0,
           15522
          ],
          [
           "Chile",
           539143,
           514584,
           15030
          ],
          [
           "Iraq",
           533555,
           463040,
           11925
          ],
          [
           "Indonesia",
           493308,
           413955,
           15774
          ],
          [
           "Czechia",
           490750,
           394830,
           7095
          ],
          [
           "Netherlands",
           486820,
           6618,
           8946
          ],
          [
           "Bangladesh",
           445281,
           360352,
           6350
          ],
          [
           "Turkey",
           440805,
           370825,
           12219
          ],
          [
           "Philippines",
           416852,
           375548,
           8080
          ],
          [
           "Romania",
           412808,
           287310,
           9916
          ],
          [
           "Pakistan",
           374173,
           329828,
           7662
          ],
          [
           "Saudi Arabia",
           355034,
           342882,
           5761
          ],
          [
           "Canada",
           329084,
           265568,
           11455
          ],
          [
           "Israel",
           328397,
           317171,
           2757
          ],
          [
           "Morocco",
           320962,
           266711,
           5256
          ],
          [
           "Switzerland",
           290601,
           180700,
           4031
          ],
          [
           "Portugal",
           255970,
           169379,
           3824
          ],
          [
           "Austria",
           241962,
           162751,
           2328
          ],
          [
           "Nepal",
           218639,
           193325,
           1305
          ],
          [
           "Sweden",
           208295,
           0,
           6406
          ],
          [
           "Ecuador",
           184876,
           160639,
           13139
          ],
          [
           "Jordan",
           178161,
           108353,
           2172
          ],
          [
           "Hungary",
           170298,
           40820,
           3689
          ],
          [
           "United Arab Emirates",
           157785,
           148080,
           548
          ],
          [
           "Panama",
           153577,
           134360,
           2946
          ],
          [
           "Bolivia",
           143922,
           119180,
           8904
          ],
          [
           "Kuwait",
           139734,
           131560,
           863
          ],
          [
           "Dominican Republic",
           137770,
           112090,
           2308
          ],
          [
           "Qatar",
           137062,
           134100,
           235
          ],
          [
           "Japan",
           130871,
           108981,
           1932
          ],
          [
           "Costa Rica",
           129418,
           79372,
           1608
          ],
          [
           "Kazakhstan",
           125466,
           112292,
           1945
          ],
          [
           "Armenia",
           124839,
           92829,
           1931
          ],
          [
           "Belarus",
           122435,
           102113,
           1089
          ],
          [
           "Oman",
           121360,
           112406,
           1365
          ],
          [
           "Bulgaria",
           120697,
           35752,
           2820
          ],
          [
           "Guatemala",
           118417,
           107241,
           4074
          ],
          [
           "Serbia",
           116125,
           0,
           1168
          ],
          [
           "Lebanon",
           115283,
           66135,
           894
          ],
          [
           "Egypt",
           112676,
           101783,
           6535
          ],
          [
           "Ethiopia",
           105352,
           65534,
           1636
          ],
          [
           "Honduras",
           104435,
           46208,
           2857
          ],
          [
           "Georgia",
           100684,
           81783,
           927
          ],
          [
           "Croatia",
           100410,
           80027,
           1304
          ],
          [
           "Venezuela",
           99435,
           94355,
           869
          ],
          [
           "Moldova",
           96689,
           78112,
           2130
          ],
          [
           "Slovakia",
           95257,
           43188,
           644
          ],
          [
           "China",
           92037,
           86769,
           4742
          ],
          [
           "Greece",
           90121,
           23074,
           1527
          ],
          [
           "Azerbaijan",
           89898,
           62243,
           1107
          ],
          [
           "Tunisia",
           87471,
           61402,
           2752
          ],
          [
           "Bahrain",
           85591,
           83617,
           338
          ],
          [
           "Bosnia and Herzegovina",
           79309,
           43793,
           2246
          ],
          [
           "Burma",
           77848,
           57679,
           1722
          ],
          [
           "Libya",
           76808,
           47587,
           1068
          ],
          [
           "Kenya",
           76404,
           51352,
           1366
          ],
          [
           "Paraguay",
           75857,
           53988,
           1652
          ],
          [
           "Algeria",
           73774,
           48183,
           2255
          ],
          [
           "Uzbekistan",
           71431,
           68659,
           603
          ],
          [
           "West Bank and Gaza",
           70254,
           58383,
           620
          ],
          [
           "Denmark",
           70152,
           54949,
           781
          ],
          [
           "Ireland",
           70143,
           23364,
           2022
          ],
          [
           "Kyrgyzstan",
           69149,
           60294,
           1227
          ],
          [
           "Nigeria",
           66228,
           61884,
           1166
          ],
          [
           "Slovenia",
           64284,
           43272,
           1026
          ],
          [
           "Singapore",
           58148,
           58064,
           28
          ],
          [
           "Malaysia",
           53679,
           40493,
           332
          ],
          [
           "North Macedonia",
           53631,
           31659,
           1487
          ],
          [
           "Ghana",
           50717,
           49281,
           323
          ],
          [
           "Lithuania",
           44740,
           10869,
           374
          ],
          [
           "Afghanistan",
           44503,
           35422,
           1675
          ],
          [
           "El Salvador",
           37250,
           33984,
           1070
          ],
          [
           "Kosovo",
           33588,
           20493,
           904
          ],
          [
           "Norway",
           32352,
           17998,
           306
          ],
          [
           "Albania",
           32196,
           15469,
           685
          ],
          [
           "Korea, South",
           30733,
           26466,
           505
          ],
          [
           "Montenegro",
           30653,
           19129,
           434
          ],
          [
           "Luxembourg",
           29762,
           20014,
           260
          ],
          [
           "Australia",
           27821,
           25522,
           907
          ],
          [
           "Cameroon",
           23528,
           22177,
           435
          ],
          [
           "Finland",
           21216,
           15300,
           375
          ],
          [
           "Cote d'Ivoire",
           21126,
           20777,
           129
          ],
          [
           "Sri Lanka",
           19771,
           13590,
           83
          ],
          [
           "Uganda",
           17667,
           8611,
           168
          ],
          [
           "Zambia",
           17394,
           16659,
           356
          ],
          [
           "Madagascar",
           17310,
           16592,
           250
          ],
          [
           "Senegal",
           15865,
           15465,
           330
          ],
          [
           "Sudan",
           15839,
           9727,
           1193
          ],
          [
           "Mozambique",
           14981,
           13151,
           123
          ],
          [
           "Angola",
           14413,
           7273,
           336
          ],
          [
           "Namibia",
           13811,
           13209,
           145
          ],
          [
           "Guinea",
           12798,
           11821,
           75
          ],
          [
           "Latvia",
           12744,
           1557,
           153
          ],
          [
           "Maldives",
           12578,
           11559,
           45
          ],
          [
           "Congo (Kinshasa)",
           12180,
           11300,
           327
          ],
          [
           "Tajikistan",
           11854,
           11229,
           86
          ],
          [
           "Jamaica",
           10240,
           5481,
           237
          ],
          [
           "Cabo Verde",
           10234,
           9649,
           104
          ],
          [
           "Botswana",
           9594,
           7296,
           31
          ],
          [
           "Estonia",
           9375,
           5661,
           87
          ],
          [
           "Haiti",
           9214,
           7854,
           232
          ],
          [
           "Zimbabwe",
           9172,
           8235,
           265
          ],
          [
           "Gabon",
           9131,
           8976,
           59
          ],
          [
           "Malta",
           8822,
           6565,
           111
          ],
          [
           "Cyprus",
           8456,
           2055,
           43
          ],
          [
           "Mauritania",
           8096,
           7573,
           169
          ],
          [
           "Cuba",
           7798,
           7307,
           132
          ],
          [
           "Bahamas",
           7395,
           5628,
           163
          ],
          [
           "Syria",
           7154,
           3043,
           372
          ],
          [
           "Trinidad and Tobago",
           6324,
           5559,
           115
          ],
          [
           "Andorra",
           6207,
           5290,
           76
          ],
          [
           "Eswatini",
           6205,
           5850,
           119
          ],
          [
           "Malawi",
           6003,
           5441,
           185
          ],
          [
           "Nicaragua",
           5725,
           4225,
           159
          ],
          [
           "Djibouti",
           5661,
           5552,
           61
          ],
          [
           "Congo (Brazzaville)",
           5632,
           3887,
           93
          ],
          [
           "Rwanda",
           5620,
           5163,
           46
          ],
          [
           "Suriname",
           5295,
           5166,
           116
          ],
          [
           "Iceland",
           5269,
           5019,
           26
          ],
          [
           "Equatorial Guinea",
           5130,
           4975,
           85
          ],
          [
           "Belize",
           5110,
           2800,
           112
          ],
          [
           "Guyana",
           5093,
           4018,
           143
          ],
          [
           "Central African Republic",
           4911,
           1924,
           63
          ],
          [
           "Uruguay",
           4564,
           3621,
           69
          ],
          [
           "Somalia",
           4382,
           3384,
           108
          ],
          [
           "Mali",
           4206,
           3012,
           143
          ],
          [
           "Thailand",
           3913,
           3761,
           60
          ],
          [
           "Gambia",
           3726,
           3582,
           123
          ],
          [
           "South Sudan",
           3047,
           1290,
           60
          ],
          [
           "Benin",
           2916,
           2579,
           43
          ],
          [
           "Togo",
           2829,
           2209,
           64
          ],
          [
           "Burkina Faso",
           2703,
           2521,
           68
          ],
          [
           "Guinea-Bissau",
           2421,
           2286,
           43
          ],
          [
           "Sierra Leone",
           2405,
           1827,
           74
          ],
          [
           "Yemen",
           2093,
           1441,
           608
          ],
          [
           "Lesotho",
           2085,
           1276,
           44
          ],
          [
           "New Zealand",
           2028,
           1953,
           25
          ],
          [
           "Chad",
           1633,
           1469,
           101
          ],
          [
           "Liberia",
           1551,
           1331,
           82
          ],
          [
           "San Marino",
           1395,
           1082,
           43
          ],
          [
           "Niger",
           1351,
           1158,
           70
          ],
          [
           "Vietnam",
           1306,
           1142,
           35
          ],
          [
           "Liechtenstein",
           1109,
           883,
           8
          ],
          [
           "Sao Tome and Principe",
           979,
           920,
           17
          ],
          [
           "Diamond Princess",
           712,
           659,
           13
          ],
          [
           "Burundi",
           656,
           575,
           1
          ],
          [
           "Taiwan*",
           611,
           546,
           7
          ],
          [
           "Mongolia",
           608,
           337,
           0
          ],
          [
           "Papua New Guinea",
           604,
           586,
           7
          ],
          [
           "Comoros",
           596,
           572,
           7
          ],
          [
           "Monaco",
           581,
           507,
           3
          ],
          [
           "Eritrea",
           551,
           473,
           0
          ],
          [
           "Tanzania",
           509,
           183,
           21
          ],
          [
           "Mauritius",
           494,
           433,
           10
          ],
          [
           "Bhutan",
           379,
           360,
           0
          ],
          [
           "Cambodia",
           306,
           295,
           0
          ],
          [
           "Barbados",
           255,
           241,
           7
          ],
          [
           "Saint Lucia",
           204,
           60,
           2
          ],
          [
           "Seychelles",
           163,
           159,
           0
          ],
          [
           "Brunei",
           148,
           145,
           3
          ],
          [
           "Antigua and Barbuda",
           139,
           128,
           4
          ],
          [
           "Saint Vincent and the Grenadines",
           84,
           78,
           0
          ],
          [
           "Dominica",
           72,
           55,
           0
          ],
          [
           "Grenada",
           41,
           30,
           0
          ],
          [
           "Fiji",
           35,
           33,
           2
          ],
          [
           "Timor-Leste",
           30,
           30,
           0
          ],
          [
           "Holy See",
           27,
           15,
           0
          ],
          [
           "Laos",
           25,
           23,
           0
          ],
          [
           "Saint Kitts and Nevis",
           19,
           19,
           0
          ],
          [
           "Solomon Islands",
           16,
           5,
           0
          ],
          [
           "Western Sahara",
           10,
           8,
           1
          ],
          [
           "MS Zaandam",
           9,
           0,
           2
          ],
          [
           "Marshall Islands",
           4,
           1,
           0
          ],
          [
           "Vanuatu",
           1,
           0,
           0
          ]
         ],
         "geo": "geo",
         "hovertemplate": "<b>%{hovertext}</b><br><br>Confirmed=%{marker.color:,3f}<br>Recovered=%{customdata[2]:,3f}<br>Deaths=%{customdata[3]:,3f}<extra></extra>",
         "hovertext": [
          "US",
          "India",
          "Brazil",
          "France",
          "Russia",
          "Spain",
          "United Kingdom",
          "Italy",
          "Argentina",
          "Colombia",
          "Mexico",
          "Peru",
          "Germany",
          "Poland",
          "Iran",
          "South Africa",
          "Ukraine",
          "Belgium",
          "Chile",
          "Iraq",
          "Indonesia",
          "Czechia",
          "Netherlands",
          "Bangladesh",
          "Turkey",
          "Philippines",
          "Romania",
          "Pakistan",
          "Saudi Arabia",
          "Canada",
          "Israel",
          "Morocco",
          "Switzerland",
          "Portugal",
          "Austria",
          "Nepal",
          "Sweden",
          "Ecuador",
          "Jordan",
          "Hungary",
          "United Arab Emirates",
          "Panama",
          "Bolivia",
          "Kuwait",
          "Dominican Republic",
          "Qatar",
          "Japan",
          "Costa Rica",
          "Kazakhstan",
          "Armenia",
          "Belarus",
          "Oman",
          "Bulgaria",
          "Guatemala",
          "Serbia",
          "Lebanon",
          "Egypt",
          "Ethiopia",
          "Honduras",
          "Georgia",
          "Croatia",
          "Venezuela",
          "Moldova",
          "Slovakia",
          "China",
          "Greece",
          "Azerbaijan",
          "Tunisia",
          "Bahrain",
          "Bosnia and Herzegovina",
          "Burma",
          "Libya",
          "Kenya",
          "Paraguay",
          "Algeria",
          "Uzbekistan",
          "West Bank and Gaza",
          "Denmark",
          "Ireland",
          "Kyrgyzstan",
          "Nigeria",
          "Slovenia",
          "Singapore",
          "Malaysia",
          "North Macedonia",
          "Ghana",
          "Lithuania",
          "Afghanistan",
          "El Salvador",
          "Kosovo",
          "Norway",
          "Albania",
          "Korea, South",
          "Montenegro",
          "Luxembourg",
          "Australia",
          "Cameroon",
          "Finland",
          "Cote d'Ivoire",
          "Sri Lanka",
          "Uganda",
          "Zambia",
          "Madagascar",
          "Senegal",
          "Sudan",
          "Mozambique",
          "Angola",
          "Namibia",
          "Guinea",
          "Latvia",
          "Maldives",
          "Congo (Kinshasa)",
          "Tajikistan",
          "Jamaica",
          "Cabo Verde",
          "Botswana",
          "Estonia",
          "Haiti",
          "Zimbabwe",
          "Gabon",
          "Malta",
          "Cyprus",
          "Mauritania",
          "Cuba",
          "Bahamas",
          "Syria",
          "Trinidad and Tobago",
          "Andorra",
          "Eswatini",
          "Malawi",
          "Nicaragua",
          "Djibouti",
          "Congo (Brazzaville)",
          "Rwanda",
          "Suriname",
          "Iceland",
          "Equatorial Guinea",
          "Belize",
          "Guyana",
          "Central African Republic",
          "Uruguay",
          "Somalia",
          "Mali",
          "Thailand",
          "Gambia",
          "South Sudan",
          "Benin",
          "Togo",
          "Burkina Faso",
          "Guinea-Bissau",
          "Sierra Leone",
          "Yemen",
          "Lesotho",
          "New Zealand",
          "Chad",
          "Liberia",
          "San Marino",
          "Niger",
          "Vietnam",
          "Liechtenstein",
          "Sao Tome and Principe",
          "Diamond Princess",
          "Burundi",
          "Taiwan*",
          "Mongolia",
          "Papua New Guinea",
          "Comoros",
          "Monaco",
          "Eritrea",
          "Tanzania",
          "Mauritius",
          "Bhutan",
          "Cambodia",
          "Barbados",
          "Saint Lucia",
          "Seychelles",
          "Brunei",
          "Antigua and Barbuda",
          "Saint Vincent and the Grenadines",
          "Dominica",
          "Grenada",
          "Fiji",
          "Timor-Leste",
          "Holy See",
          "Laos",
          "Saint Kitts and Nevis",
          "Solomon Islands",
          "Western Sahara",
          "MS Zaandam",
          "Marshall Islands",
          "Vanuatu"
         ],
         "legendgroup": "",
         "locationmode": "country names",
         "locations": [
          "US",
          "India",
          "Brazil",
          "France",
          "Russia",
          "Spain",
          "United Kingdom",
          "Italy",
          "Argentina",
          "Colombia",
          "Mexico",
          "Peru",
          "Germany",
          "Poland",
          "Iran",
          "South Africa",
          "Ukraine",
          "Belgium",
          "Chile",
          "Iraq",
          "Indonesia",
          "Czechia",
          "Netherlands",
          "Bangladesh",
          "Turkey",
          "Philippines",
          "Romania",
          "Pakistan",
          "Saudi Arabia",
          "Canada",
          "Israel",
          "Morocco",
          "Switzerland",
          "Portugal",
          "Austria",
          "Nepal",
          "Sweden",
          "Ecuador",
          "Jordan",
          "Hungary",
          "United Arab Emirates",
          "Panama",
          "Bolivia",
          "Kuwait",
          "Dominican Republic",
          "Qatar",
          "Japan",
          "Costa Rica",
          "Kazakhstan",
          "Armenia",
          "Belarus",
          "Oman",
          "Bulgaria",
          "Guatemala",
          "Serbia",
          "Lebanon",
          "Egypt",
          "Ethiopia",
          "Honduras",
          "Georgia",
          "Croatia",
          "Venezuela",
          "Moldova",
          "Slovakia",
          "China",
          "Greece",
          "Azerbaijan",
          "Tunisia",
          "Bahrain",
          "Bosnia and Herzegovina",
          "Burma",
          "Libya",
          "Kenya",
          "Paraguay",
          "Algeria",
          "Uzbekistan",
          "West Bank and Gaza",
          "Denmark",
          "Ireland",
          "Kyrgyzstan",
          "Nigeria",
          "Slovenia",
          "Singapore",
          "Malaysia",
          "North Macedonia",
          "Ghana",
          "Lithuania",
          "Afghanistan",
          "El Salvador",
          "Kosovo",
          "Norway",
          "Albania",
          "Korea, South",
          "Montenegro",
          "Luxembourg",
          "Australia",
          "Cameroon",
          "Finland",
          "Cote d'Ivoire",
          "Sri Lanka",
          "Uganda",
          "Zambia",
          "Madagascar",
          "Senegal",
          "Sudan",
          "Mozambique",
          "Angola",
          "Namibia",
          "Guinea",
          "Latvia",
          "Maldives",
          "Congo (Kinshasa)",
          "Tajikistan",
          "Jamaica",
          "Cabo Verde",
          "Botswana",
          "Estonia",
          "Haiti",
          "Zimbabwe",
          "Gabon",
          "Malta",
          "Cyprus",
          "Mauritania",
          "Cuba",
          "Bahamas",
          "Syria",
          "Trinidad and Tobago",
          "Andorra",
          "Eswatini",
          "Malawi",
          "Nicaragua",
          "Djibouti",
          "Congo (Brazzaville)",
          "Rwanda",
          "Suriname",
          "Iceland",
          "Equatorial Guinea",
          "Belize",
          "Guyana",
          "Central African Republic",
          "Uruguay",
          "Somalia",
          "Mali",
          "Thailand",
          "Gambia",
          "South Sudan",
          "Benin",
          "Togo",
          "Burkina Faso",
          "Guinea-Bissau",
          "Sierra Leone",
          "Yemen",
          "Lesotho",
          "New Zealand",
          "Chad",
          "Liberia",
          "San Marino",
          "Niger",
          "Vietnam",
          "Liechtenstein",
          "Sao Tome and Principe",
          "Diamond Princess",
          "Burundi",
          "Taiwan*",
          "Mongolia",
          "Papua New Guinea",
          "Comoros",
          "Monaco",
          "Eritrea",
          "Tanzania",
          "Mauritius",
          "Bhutan",
          "Cambodia",
          "Barbados",
          "Saint Lucia",
          "Seychelles",
          "Brunei",
          "Antigua and Barbuda",
          "Saint Vincent and the Grenadines",
          "Dominica",
          "Grenada",
          "Fiji",
          "Timor-Leste",
          "Holy See",
          "Laos",
          "Saint Kitts and Nevis",
          "Solomon Islands",
          "Western Sahara",
          "MS Zaandam",
          "Marshall Islands",
          "Vanuatu"
         ],
         "marker": {
          "color": [
           12088410,
           9095806,
           6052786,
           2178023,
           2047563,
           1556730,
           1497135,
           1380531,
           1366182,
           1240493,
           1025969,
           948081,
           927990,
           843475,
           841308,
           765409,
           629850,
           556904,
           539143,
           533555,
           493308,
           490750,
           486820,
           445281,
           440805,
           416852,
           412808,
           374173,
           355034,
           329084,
           328397,
           320962,
           290601,
           255970,
           241962,
           218639,
           208295,
           184876,
           178161,
           170298,
           157785,
           153577,
           143922,
           139734,
           137770,
           137062,
           130871,
           129418,
           125466,
           124839,
           122435,
           121360,
           120697,
           118417,
           116125,
           115283,
           112676,
           105352,
           104435,
           100684,
           100410,
           99435,
           96689,
           95257,
           92037,
           90121,
           89898,
           87471,
           85591,
           79309,
           77848,
           76808,
           76404,
           75857,
           73774,
           71431,
           70254,
           70152,
           70143,
           69149,
           66228,
           64284,
           58148,
           53679,
           53631,
           50717,
           44740,
           44503,
           37250,
           33588,
           32352,
           32196,
           30733,
           30653,
           29762,
           27821,
           23528,
           21216,
           21126,
           19771,
           17667,
           17394,
           17310,
           15865,
           15839,
           14981,
           14413,
           13811,
           12798,
           12744,
           12578,
           12180,
           11854,
           10240,
           10234,
           9594,
           9375,
           9214,
           9172,
           9131,
           8822,
           8456,
           8096,
           7798,
           7395,
           7154,
           6324,
           6207,
           6205,
           6003,
           5725,
           5661,
           5632,
           5620,
           5295,
           5269,
           5130,
           5110,
           5093,
           4911,
           4564,
           4382,
           4206,
           3913,
           3726,
           3047,
           2916,
           2829,
           2703,
           2421,
           2405,
           2093,
           2085,
           2028,
           1633,
           1551,
           1395,
           1351,
           1306,
           1109,
           979,
           712,
           656,
           611,
           608,
           604,
           596,
           581,
           551,
           509,
           494,
           379,
           306,
           255,
           204,
           163,
           148,
           139,
           84,
           72,
           41,
           35,
           30,
           27,
           25,
           19,
           16,
           10,
           9,
           4,
           1
          ],
          "coloraxis": "coloraxis",
          "size": [
           12088410,
           9095806,
           6052786,
           2178023,
           2047563,
           1556730,
           1497135,
           1380531,
           1366182,
           1240493,
           1025969,
           948081,
           927990,
           843475,
           841308,
           765409,
           629850,
           556904,
           539143,
           533555,
           493308,
           490750,
           486820,
           445281,
           440805,
           416852,
           412808,
           374173,
           355034,
           329084,
           328397,
           320962,
           290601,
           255970,
           241962,
           218639,
           208295,
           184876,
           178161,
           170298,
           157785,
           153577,
           143922,
           139734,
           137770,
           137062,
           130871,
           129418,
           125466,
           124839,
           122435,
           121360,
           120697,
           118417,
           116125,
           115283,
           112676,
           105352,
           104435,
           100684,
           100410,
           99435,
           96689,
           95257,
           92037,
           90121,
           89898,
           87471,
           85591,
           79309,
           77848,
           76808,
           76404,
           75857,
           73774,
           71431,
           70254,
           70152,
           70143,
           69149,
           66228,
           64284,
           58148,
           53679,
           53631,
           50717,
           44740,
           44503,
           37250,
           33588,
           32352,
           32196,
           30733,
           30653,
           29762,
           27821,
           23528,
           21216,
           21126,
           19771,
           17667,
           17394,
           17310,
           15865,
           15839,
           14981,
           14413,
           13811,
           12798,
           12744,
           12578,
           12180,
           11854,
           10240,
           10234,
           9594,
           9375,
           9214,
           9172,
           9131,
           8822,
           8456,
           8096,
           7798,
           7395,
           7154,
           6324,
           6207,
           6205,
           6003,
           5725,
           5661,
           5632,
           5620,
           5295,
           5269,
           5130,
           5110,
           5093,
           4911,
           4564,
           4382,
           4206,
           3913,
           3726,
           3047,
           2916,
           2829,
           2703,
           2421,
           2405,
           2093,
           2085,
           2028,
           1633,
           1551,
           1395,
           1351,
           1306,
           1109,
           979,
           712,
           656,
           611,
           608,
           604,
           596,
           581,
           551,
           509,
           494,
           379,
           306,
           255,
           204,
           163,
           148,
           139,
           84,
           72,
           41,
           35,
           30,
           27,
           25,
           19,
           16,
           10,
           9,
           4,
           1
          ],
          "sizemode": "area",
          "sizeref": 7555.25625,
          "symbol": "circle"
         },
         "mode": "markers",
         "name": "",
         "showlegend": false,
         "type": "scattergeo"
        }
       ],
       "layout": {
        "coloraxis": {
         "colorbar": {
          "title": {
           "text": "Confirmed"
          }
         },
         "colorscale": [
          [
           0,
           "#0d0887"
          ],
          [
           0.1111111111111111,
           "#46039f"
          ],
          [
           0.2222222222222222,
           "#7201a8"
          ],
          [
           0.3333333333333333,
           "#9c179e"
          ],
          [
           0.4444444444444444,
           "#bd3786"
          ],
          [
           0.5555555555555556,
           "#d8576b"
          ],
          [
           0.6666666666666666,
           "#ed7953"
          ],
          [
           0.7777777777777778,
           "#fb9f3a"
          ],
          [
           0.8888888888888888,
           "#fdca26"
          ],
          [
           1,
           "#f0f921"
          ]
         ]
        },
        "geo": {
         "center": {},
         "domain": {
          "x": [
           0,
           1
          ],
          "y": [
           0,
           1
          ]
         }
        },
        "legend": {
         "itemsizing": "constant",
         "tracegroupgap": 0
        },
        "margin": {
         "t": 60
        },
        "template": {
         "data": {
          "bar": [
           {
            "error_x": {
             "color": "#f2f5fa"
            },
            "error_y": {
             "color": "#f2f5fa"
            },
            "marker": {
             "line": {
              "color": "rgb(17,17,17)",
              "width": 0.5
             }
            },
            "type": "bar"
           }
          ],
          "barpolar": [
           {
            "marker": {
             "line": {
              "color": "rgb(17,17,17)",
              "width": 0.5
             }
            },
            "type": "barpolar"
           }
          ],
          "carpet": [
           {
            "aaxis": {
             "endlinecolor": "#A2B1C6",
             "gridcolor": "#506784",
             "linecolor": "#506784",
             "minorgridcolor": "#506784",
             "startlinecolor": "#A2B1C6"
            },
            "baxis": {
             "endlinecolor": "#A2B1C6",
             "gridcolor": "#506784",
             "linecolor": "#506784",
             "minorgridcolor": "#506784",
             "startlinecolor": "#A2B1C6"
            },
            "type": "carpet"
           }
          ],
          "choropleth": [
           {
            "colorbar": {
             "outlinewidth": 0,
             "ticks": ""
            },
            "type": "choropleth"
           }
          ],
          "contour": [
           {
            "colorbar": {
             "outlinewidth": 0,
             "ticks": ""
            },
            "colorscale": [
             [
              0,
              "#0d0887"
             ],
             [
              0.1111111111111111,
              "#46039f"
             ],
             [
              0.2222222222222222,
              "#7201a8"
             ],
             [
              0.3333333333333333,
              "#9c179e"
             ],
             [
              0.4444444444444444,
              "#bd3786"
             ],
             [
              0.5555555555555556,
              "#d8576b"
             ],
             [
              0.6666666666666666,
              "#ed7953"
             ],
             [
              0.7777777777777778,
              "#fb9f3a"
             ],
             [
              0.8888888888888888,
              "#fdca26"
             ],
             [
              1,
              "#f0f921"
             ]
            ],
            "type": "contour"
           }
          ],
          "contourcarpet": [
           {
            "colorbar": {
             "outlinewidth": 0,
             "ticks": ""
            },
            "type": "contourcarpet"
           }
          ],
          "heatmap": [
           {
            "colorbar": {
             "outlinewidth": 0,
             "ticks": ""
            },
            "colorscale": [
             [
              0,
              "#0d0887"
             ],
             [
              0.1111111111111111,
              "#46039f"
             ],
             [
              0.2222222222222222,
              "#7201a8"
             ],
             [
              0.3333333333333333,
              "#9c179e"
             ],
             [
              0.4444444444444444,
              "#bd3786"
             ],
             [
              0.5555555555555556,
              "#d8576b"
             ],
             [
              0.6666666666666666,
              "#ed7953"
             ],
             [
              0.7777777777777778,
              "#fb9f3a"
             ],
             [
              0.8888888888888888,
              "#fdca26"
             ],
             [
              1,
              "#f0f921"
             ]
            ],
            "type": "heatmap"
           }
          ],
          "heatmapgl": [
           {
            "colorbar": {
             "outlinewidth": 0,
             "ticks": ""
            },
            "colorscale": [
             [
              0,
              "#0d0887"
             ],
             [
              0.1111111111111111,
              "#46039f"
             ],
             [
              0.2222222222222222,
              "#7201a8"
             ],
             [
              0.3333333333333333,
              "#9c179e"
             ],
             [
              0.4444444444444444,
              "#bd3786"
             ],
             [
              0.5555555555555556,
              "#d8576b"
             ],
             [
              0.6666666666666666,
              "#ed7953"
             ],
             [
              0.7777777777777778,
              "#fb9f3a"
             ],
             [
              0.8888888888888888,
              "#fdca26"
             ],
             [
              1,
              "#f0f921"
             ]
            ],
            "type": "heatmapgl"
           }
          ],
          "histogram": [
           {
            "marker": {
             "colorbar": {
              "outlinewidth": 0,
              "ticks": ""
             }
            },
            "type": "histogram"
           }
          ],
          "histogram2d": [
           {
            "colorbar": {
             "outlinewidth": 0,
             "ticks": ""
            },
            "colorscale": [
             [
              0,
              "#0d0887"
             ],
             [
              0.1111111111111111,
              "#46039f"
             ],
             [
              0.2222222222222222,
              "#7201a8"
             ],
             [
              0.3333333333333333,
              "#9c179e"
             ],
             [
              0.4444444444444444,
              "#bd3786"
             ],
             [
              0.5555555555555556,
              "#d8576b"
             ],
             [
              0.6666666666666666,
              "#ed7953"
             ],
             [
              0.7777777777777778,
              "#fb9f3a"
             ],
             [
              0.8888888888888888,
              "#fdca26"
             ],
             [
              1,
              "#f0f921"
             ]
            ],
            "type": "histogram2d"
           }
          ],
          "histogram2dcontour": [
           {
            "colorbar": {
             "outlinewidth": 0,
             "ticks": ""
            },
            "colorscale": [
             [
              0,
              "#0d0887"
             ],
             [
              0.1111111111111111,
              "#46039f"
             ],
             [
              0.2222222222222222,
              "#7201a8"
             ],
             [
              0.3333333333333333,
              "#9c179e"
             ],
             [
              0.4444444444444444,
              "#bd3786"
             ],
             [
              0.5555555555555556,
              "#d8576b"
             ],
             [
              0.6666666666666666,
              "#ed7953"
             ],
             [
              0.7777777777777778,
              "#fb9f3a"
             ],
             [
              0.8888888888888888,
              "#fdca26"
             ],
             [
              1,
              "#f0f921"
             ]
            ],
            "type": "histogram2dcontour"
           }
          ],
          "mesh3d": [
           {
            "colorbar": {
             "outlinewidth": 0,
             "ticks": ""
            },
            "type": "mesh3d"
           }
          ],
          "parcoords": [
           {
            "line": {
             "colorbar": {
              "outlinewidth": 0,
              "ticks": ""
             }
            },
            "type": "parcoords"
           }
          ],
          "pie": [
           {
            "automargin": true,
            "type": "pie"
           }
          ],
          "scatter": [
           {
            "marker": {
             "line": {
              "color": "#283442"
             }
            },
            "type": "scatter"
           }
          ],
          "scatter3d": [
           {
            "line": {
             "colorbar": {
              "outlinewidth": 0,
              "ticks": ""
             }
            },
            "marker": {
             "colorbar": {
              "outlinewidth": 0,
              "ticks": ""
             }
            },
            "type": "scatter3d"
           }
          ],
          "scattercarpet": [
           {
            "marker": {
             "colorbar": {
              "outlinewidth": 0,
              "ticks": ""
             }
            },
            "type": "scattercarpet"
           }
          ],
          "scattergeo": [
           {
            "marker": {
             "colorbar": {
              "outlinewidth": 0,
              "ticks": ""
             }
            },
            "type": "scattergeo"
           }
          ],
          "scattergl": [
           {
            "marker": {
             "line": {
              "color": "#283442"
             }
            },
            "type": "scattergl"
           }
          ],
          "scattermapbox": [
           {
            "marker": {
             "colorbar": {
              "outlinewidth": 0,
              "ticks": ""
             }
            },
            "type": "scattermapbox"
           }
          ],
          "scatterpolar": [
           {
            "marker": {
             "colorbar": {
              "outlinewidth": 0,
              "ticks": ""
             }
            },
            "type": "scatterpolar"
           }
          ],
          "scatterpolargl": [
           {
            "marker": {
             "colorbar": {
              "outlinewidth": 0,
              "ticks": ""
             }
            },
            "type": "scatterpolargl"
           }
          ],
          "scatterternary": [
           {
            "marker": {
             "colorbar": {
              "outlinewidth": 0,
              "ticks": ""
             }
            },
            "type": "scatterternary"
           }
          ],
          "surface": [
           {
            "colorbar": {
             "outlinewidth": 0,
             "ticks": ""
            },
            "colorscale": [
             [
              0,
              "#0d0887"
             ],
             [
              0.1111111111111111,
              "#46039f"
             ],
             [
              0.2222222222222222,
              "#7201a8"
             ],
             [
              0.3333333333333333,
              "#9c179e"
             ],
             [
              0.4444444444444444,
              "#bd3786"
             ],
             [
              0.5555555555555556,
              "#d8576b"
             ],
             [
              0.6666666666666666,
              "#ed7953"
             ],
             [
              0.7777777777777778,
              "#fb9f3a"
             ],
             [
              0.8888888888888888,
              "#fdca26"
             ],
             [
              1,
              "#f0f921"
             ]
            ],
            "type": "surface"
           }
          ],
          "table": [
           {
            "cells": {
             "fill": {
              "color": "#506784"
             },
             "line": {
              "color": "rgb(17,17,17)"
             }
            },
            "header": {
             "fill": {
              "color": "#2a3f5f"
             },
             "line": {
              "color": "rgb(17,17,17)"
             }
            },
            "type": "table"
           }
          ]
         },
         "layout": {
          "annotationdefaults": {
           "arrowcolor": "#f2f5fa",
           "arrowhead": 0,
           "arrowwidth": 1
          },
          "coloraxis": {
           "colorbar": {
            "outlinewidth": 0,
            "ticks": ""
           }
          },
          "colorscale": {
           "diverging": [
            [
             0,
             "#8e0152"
            ],
            [
             0.1,
             "#c51b7d"
            ],
            [
             0.2,
             "#de77ae"
            ],
            [
             0.3,
             "#f1b6da"
            ],
            [
             0.4,
             "#fde0ef"
            ],
            [
             0.5,
             "#f7f7f7"
            ],
            [
             0.6,
             "#e6f5d0"
            ],
            [
             0.7,
             "#b8e186"
            ],
            [
             0.8,
             "#7fbc41"
            ],
            [
             0.9,
             "#4d9221"
            ],
            [
             1,
             "#276419"
            ]
           ],
           "sequential": [
            [
             0,
             "#0d0887"
            ],
            [
             0.1111111111111111,
             "#46039f"
            ],
            [
             0.2222222222222222,
             "#7201a8"
            ],
            [
             0.3333333333333333,
             "#9c179e"
            ],
            [
             0.4444444444444444,
             "#bd3786"
            ],
            [
             0.5555555555555556,
             "#d8576b"
            ],
            [
             0.6666666666666666,
             "#ed7953"
            ],
            [
             0.7777777777777778,
             "#fb9f3a"
            ],
            [
             0.8888888888888888,
             "#fdca26"
            ],
            [
             1,
             "#f0f921"
            ]
           ],
           "sequentialminus": [
            [
             0,
             "#0d0887"
            ],
            [
             0.1111111111111111,
             "#46039f"
            ],
            [
             0.2222222222222222,
             "#7201a8"
            ],
            [
             0.3333333333333333,
             "#9c179e"
            ],
            [
             0.4444444444444444,
             "#bd3786"
            ],
            [
             0.5555555555555556,
             "#d8576b"
            ],
            [
             0.6666666666666666,
             "#ed7953"
            ],
            [
             0.7777777777777778,
             "#fb9f3a"
            ],
            [
             0.8888888888888888,
             "#fdca26"
            ],
            [
             1,
             "#f0f921"
            ]
           ]
          },
          "colorway": [
           "#636efa",
           "#EF553B",
           "#00cc96",
           "#ab63fa",
           "#FFA15A",
           "#19d3f3",
           "#FF6692",
           "#B6E880",
           "#FF97FF",
           "#FECB52"
          ],
          "font": {
           "color": "#f2f5fa"
          },
          "geo": {
           "bgcolor": "rgb(17,17,17)",
           "lakecolor": "rgb(17,17,17)",
           "landcolor": "rgb(17,17,17)",
           "showlakes": true,
           "showland": true,
           "subunitcolor": "#506784"
          },
          "hoverlabel": {
           "align": "left"
          },
          "hovermode": "closest",
          "mapbox": {
           "style": "dark"
          },
          "paper_bgcolor": "rgb(17,17,17)",
          "plot_bgcolor": "rgb(17,17,17)",
          "polar": {
           "angularaxis": {
            "gridcolor": "#506784",
            "linecolor": "#506784",
            "ticks": ""
           },
           "bgcolor": "rgb(17,17,17)",
           "radialaxis": {
            "gridcolor": "#506784",
            "linecolor": "#506784",
            "ticks": ""
           }
          },
          "scene": {
           "xaxis": {
            "backgroundcolor": "rgb(17,17,17)",
            "gridcolor": "#506784",
            "gridwidth": 2,
            "linecolor": "#506784",
            "showbackground": true,
            "ticks": "",
            "zerolinecolor": "#C8D4E3"
           },
           "yaxis": {
            "backgroundcolor": "rgb(17,17,17)",
            "gridcolor": "#506784",
            "gridwidth": 2,
            "linecolor": "#506784",
            "showbackground": true,
            "ticks": "",
            "zerolinecolor": "#C8D4E3"
           },
           "zaxis": {
            "backgroundcolor": "rgb(17,17,17)",
            "gridcolor": "#506784",
            "gridwidth": 2,
            "linecolor": "#506784",
            "showbackground": true,
            "ticks": "",
            "zerolinecolor": "#C8D4E3"
           }
          },
          "shapedefaults": {
           "line": {
            "color": "#f2f5fa"
           }
          },
          "sliderdefaults": {
           "bgcolor": "#C8D4E3",
           "bordercolor": "rgb(17,17,17)",
           "borderwidth": 1,
           "tickwidth": 0
          },
          "ternary": {
           "aaxis": {
            "gridcolor": "#506784",
            "linecolor": "#506784",
            "ticks": ""
           },
           "baxis": {
            "gridcolor": "#506784",
            "linecolor": "#506784",
            "ticks": ""
           },
           "bgcolor": "rgb(17,17,17)",
           "caxis": {
            "gridcolor": "#506784",
            "linecolor": "#506784",
            "ticks": ""
           }
          },
          "title": {
           "x": 0.05
          },
          "updatemenudefaults": {
           "bgcolor": "#506784",
           "borderwidth": 0
          },
          "xaxis": {
           "automargin": true,
           "gridcolor": "#283442",
           "linecolor": "#506784",
           "ticks": "",
           "title": {
            "standoff": 15
           },
           "zerolinecolor": "#283442",
           "zerolinewidth": 2
          },
          "yaxis": {
           "automargin": true,
           "gridcolor": "#283442",
           "linecolor": "#506784",
           "ticks": "",
           "title": {
            "standoff": 15
           },
           "zerolinecolor": "#283442",
           "zerolinewidth": 2
          }
         }
        }
       }
      },
      "text/html": [
       "<div>                            <div id=\"45ffe300-93ef-4ec4-a223-d7c6c379b24c\" class=\"plotly-graph-div\" style=\"height:525px; width:100%;\"></div>            <script type=\"text/javascript\">                require([\"plotly\"], function(Plotly) {                    window.PLOTLYENV=window.PLOTLYENV || {};                                    if (document.getElementById(\"45ffe300-93ef-4ec4-a223-d7c6c379b24c\")) {                    Plotly.newPlot(                        \"45ffe300-93ef-4ec4-a223-d7c6c379b24c\",                        [{\"customdata\": [[\"US\", 12088410, 4529700, 255861], [\"India\", 9095806, 8521617, 133227], [\"Brazil\", 6052786, 5437189, 168989], [\"France\", 2178023, 156755, 48593], [\"Russia\", 2047563, 1564897, 35442], [\"Spain\", 1556730, 150376, 42619], [\"United Kingdom\", 1497135, 3310, 54721], [\"Italy\", 1380531, 539524, 49261], [\"Argentina\", 1366182, 1187053, 36902], [\"Colombia\", 1240493, 1144923, 35104], [\"Mexico\", 1025969, 770728, 100823], [\"Peru\", 948081, 873970, 35549], [\"Germany\", 927990, 600991, 14061], [\"Poland\", 843475, 407075, 13288], [\"Iran\", 841308, 596136, 44327], [\"South Africa\", 765409, 707784, 20845], [\"Ukraine\", 629850, 294851, 11149], [\"Belgium\", 556904, 0, 15522], [\"Chile\", 539143, 514584, 15030], [\"Iraq\", 533555, 463040, 11925], [\"Indonesia\", 493308, 413955, 15774], [\"Czechia\", 490750, 394830, 7095], [\"Netherlands\", 486820, 6618, 8946], [\"Bangladesh\", 445281, 360352, 6350], [\"Turkey\", 440805, 370825, 12219], [\"Philippines\", 416852, 375548, 8080], [\"Romania\", 412808, 287310, 9916], [\"Pakistan\", 374173, 329828, 7662], [\"Saudi Arabia\", 355034, 342882, 5761], [\"Canada\", 329084, 265568, 11455], [\"Israel\", 328397, 317171, 2757], [\"Morocco\", 320962, 266711, 5256], [\"Switzerland\", 290601, 180700, 4031], [\"Portugal\", 255970, 169379, 3824], [\"Austria\", 241962, 162751, 2328], [\"Nepal\", 218639, 193325, 1305], [\"Sweden\", 208295, 0, 6406], [\"Ecuador\", 184876, 160639, 13139], [\"Jordan\", 178161, 108353, 2172], [\"Hungary\", 170298, 40820, 3689], [\"United Arab Emirates\", 157785, 148080, 548], [\"Panama\", 153577, 134360, 2946], [\"Bolivia\", 143922, 119180, 8904], [\"Kuwait\", 139734, 131560, 863], [\"Dominican Republic\", 137770, 112090, 2308], [\"Qatar\", 137062, 134100, 235], [\"Japan\", 130871, 108981, 1932], [\"Costa Rica\", 129418, 79372, 1608], [\"Kazakhstan\", 125466, 112292, 1945], [\"Armenia\", 124839, 92829, 1931], [\"Belarus\", 122435, 102113, 1089], [\"Oman\", 121360, 112406, 1365], [\"Bulgaria\", 120697, 35752, 2820], [\"Guatemala\", 118417, 107241, 4074], [\"Serbia\", 116125, 0, 1168], [\"Lebanon\", 115283, 66135, 894], [\"Egypt\", 112676, 101783, 6535], [\"Ethiopia\", 105352, 65534, 1636], [\"Honduras\", 104435, 46208, 2857], [\"Georgia\", 100684, 81783, 927], [\"Croatia\", 100410, 80027, 1304], [\"Venezuela\", 99435, 94355, 869], [\"Moldova\", 96689, 78112, 2130], [\"Slovakia\", 95257, 43188, 644], [\"China\", 92037, 86769, 4742], [\"Greece\", 90121, 23074, 1527], [\"Azerbaijan\", 89898, 62243, 1107], [\"Tunisia\", 87471, 61402, 2752], [\"Bahrain\", 85591, 83617, 338], [\"Bosnia and Herzegovina\", 79309, 43793, 2246], [\"Burma\", 77848, 57679, 1722], [\"Libya\", 76808, 47587, 1068], [\"Kenya\", 76404, 51352, 1366], [\"Paraguay\", 75857, 53988, 1652], [\"Algeria\", 73774, 48183, 2255], [\"Uzbekistan\", 71431, 68659, 603], [\"West Bank and Gaza\", 70254, 58383, 620], [\"Denmark\", 70152, 54949, 781], [\"Ireland\", 70143, 23364, 2022], [\"Kyrgyzstan\", 69149, 60294, 1227], [\"Nigeria\", 66228, 61884, 1166], [\"Slovenia\", 64284, 43272, 1026], [\"Singapore\", 58148, 58064, 28], [\"Malaysia\", 53679, 40493, 332], [\"North Macedonia\", 53631, 31659, 1487], [\"Ghana\", 50717, 49281, 323], [\"Lithuania\", 44740, 10869, 374], [\"Afghanistan\", 44503, 35422, 1675], [\"El Salvador\", 37250, 33984, 1070], [\"Kosovo\", 33588, 20493, 904], [\"Norway\", 32352, 17998, 306], [\"Albania\", 32196, 15469, 685], [\"Korea, South\", 30733, 26466, 505], [\"Montenegro\", 30653, 19129, 434], [\"Luxembourg\", 29762, 20014, 260], [\"Australia\", 27821, 25522, 907], [\"Cameroon\", 23528, 22177, 435], [\"Finland\", 21216, 15300, 375], [\"Cote d'Ivoire\", 21126, 20777, 129], [\"Sri Lanka\", 19771, 13590, 83], [\"Uganda\", 17667, 8611, 168], [\"Zambia\", 17394, 16659, 356], [\"Madagascar\", 17310, 16592, 250], [\"Senegal\", 15865, 15465, 330], [\"Sudan\", 15839, 9727, 1193], [\"Mozambique\", 14981, 13151, 123], [\"Angola\", 14413, 7273, 336], [\"Namibia\", 13811, 13209, 145], [\"Guinea\", 12798, 11821, 75], [\"Latvia\", 12744, 1557, 153], [\"Maldives\", 12578, 11559, 45], [\"Congo (Kinshasa)\", 12180, 11300, 327], [\"Tajikistan\", 11854, 11229, 86], [\"Jamaica\", 10240, 5481, 237], [\"Cabo Verde\", 10234, 9649, 104], [\"Botswana\", 9594, 7296, 31], [\"Estonia\", 9375, 5661, 87], [\"Haiti\", 9214, 7854, 232], [\"Zimbabwe\", 9172, 8235, 265], [\"Gabon\", 9131, 8976, 59], [\"Malta\", 8822, 6565, 111], [\"Cyprus\", 8456, 2055, 43], [\"Mauritania\", 8096, 7573, 169], [\"Cuba\", 7798, 7307, 132], [\"Bahamas\", 7395, 5628, 163], [\"Syria\", 7154, 3043, 372], [\"Trinidad and Tobago\", 6324, 5559, 115], [\"Andorra\", 6207, 5290, 76], [\"Eswatini\", 6205, 5850, 119], [\"Malawi\", 6003, 5441, 185], [\"Nicaragua\", 5725, 4225, 159], [\"Djibouti\", 5661, 5552, 61], [\"Congo (Brazzaville)\", 5632, 3887, 93], [\"Rwanda\", 5620, 5163, 46], [\"Suriname\", 5295, 5166, 116], [\"Iceland\", 5269, 5019, 26], [\"Equatorial Guinea\", 5130, 4975, 85], [\"Belize\", 5110, 2800, 112], [\"Guyana\", 5093, 4018, 143], [\"Central African Republic\", 4911, 1924, 63], [\"Uruguay\", 4564, 3621, 69], [\"Somalia\", 4382, 3384, 108], [\"Mali\", 4206, 3012, 143], [\"Thailand\", 3913, 3761, 60], [\"Gambia\", 3726, 3582, 123], [\"South Sudan\", 3047, 1290, 60], [\"Benin\", 2916, 2579, 43], [\"Togo\", 2829, 2209, 64], [\"Burkina Faso\", 2703, 2521, 68], [\"Guinea-Bissau\", 2421, 2286, 43], [\"Sierra Leone\", 2405, 1827, 74], [\"Yemen\", 2093, 1441, 608], [\"Lesotho\", 2085, 1276, 44], [\"New Zealand\", 2028, 1953, 25], [\"Chad\", 1633, 1469, 101], [\"Liberia\", 1551, 1331, 82], [\"San Marino\", 1395, 1082, 43], [\"Niger\", 1351, 1158, 70], [\"Vietnam\", 1306, 1142, 35], [\"Liechtenstein\", 1109, 883, 8], [\"Sao Tome and Principe\", 979, 920, 17], [\"Diamond Princess\", 712, 659, 13], [\"Burundi\", 656, 575, 1], [\"Taiwan*\", 611, 546, 7], [\"Mongolia\", 608, 337, 0], [\"Papua New Guinea\", 604, 586, 7], [\"Comoros\", 596, 572, 7], [\"Monaco\", 581, 507, 3], [\"Eritrea\", 551, 473, 0], [\"Tanzania\", 509, 183, 21], [\"Mauritius\", 494, 433, 10], [\"Bhutan\", 379, 360, 0], [\"Cambodia\", 306, 295, 0], [\"Barbados\", 255, 241, 7], [\"Saint Lucia\", 204, 60, 2], [\"Seychelles\", 163, 159, 0], [\"Brunei\", 148, 145, 3], [\"Antigua and Barbuda\", 139, 128, 4], [\"Saint Vincent and the Grenadines\", 84, 78, 0], [\"Dominica\", 72, 55, 0], [\"Grenada\", 41, 30, 0], [\"Fiji\", 35, 33, 2], [\"Timor-Leste\", 30, 30, 0], [\"Holy See\", 27, 15, 0], [\"Laos\", 25, 23, 0], [\"Saint Kitts and Nevis\", 19, 19, 0], [\"Solomon Islands\", 16, 5, 0], [\"Western Sahara\", 10, 8, 1], [\"MS Zaandam\", 9, 0, 2], [\"Marshall Islands\", 4, 1, 0], [\"Vanuatu\", 1, 0, 0]], \"geo\": \"geo\", \"hovertemplate\": \"<b>%{hovertext}</b><br><br>Confirmed=%{marker.color:,3f}<br>Recovered=%{customdata[2]:,3f}<br>Deaths=%{customdata[3]:,3f}<extra></extra>\", \"hovertext\": [\"US\", \"India\", \"Brazil\", \"France\", \"Russia\", \"Spain\", \"United Kingdom\", \"Italy\", \"Argentina\", \"Colombia\", \"Mexico\", \"Peru\", \"Germany\", \"Poland\", \"Iran\", \"South Africa\", \"Ukraine\", \"Belgium\", \"Chile\", \"Iraq\", \"Indonesia\", \"Czechia\", \"Netherlands\", \"Bangladesh\", \"Turkey\", \"Philippines\", \"Romania\", \"Pakistan\", \"Saudi Arabia\", \"Canada\", \"Israel\", \"Morocco\", \"Switzerland\", \"Portugal\", \"Austria\", \"Nepal\", \"Sweden\", \"Ecuador\", \"Jordan\", \"Hungary\", \"United Arab Emirates\", \"Panama\", \"Bolivia\", \"Kuwait\", \"Dominican Republic\", \"Qatar\", \"Japan\", \"Costa Rica\", \"Kazakhstan\", \"Armenia\", \"Belarus\", \"Oman\", \"Bulgaria\", \"Guatemala\", \"Serbia\", \"Lebanon\", \"Egypt\", \"Ethiopia\", \"Honduras\", \"Georgia\", \"Croatia\", \"Venezuela\", \"Moldova\", \"Slovakia\", \"China\", \"Greece\", \"Azerbaijan\", \"Tunisia\", \"Bahrain\", \"Bosnia and Herzegovina\", \"Burma\", \"Libya\", \"Kenya\", \"Paraguay\", \"Algeria\", \"Uzbekistan\", \"West Bank and Gaza\", \"Denmark\", \"Ireland\", \"Kyrgyzstan\", \"Nigeria\", \"Slovenia\", \"Singapore\", \"Malaysia\", \"North Macedonia\", \"Ghana\", \"Lithuania\", \"Afghanistan\", \"El Salvador\", \"Kosovo\", \"Norway\", \"Albania\", \"Korea, South\", \"Montenegro\", \"Luxembourg\", \"Australia\", \"Cameroon\", \"Finland\", \"Cote d'Ivoire\", \"Sri Lanka\", \"Uganda\", \"Zambia\", \"Madagascar\", \"Senegal\", \"Sudan\", \"Mozambique\", \"Angola\", \"Namibia\", \"Guinea\", \"Latvia\", \"Maldives\", \"Congo (Kinshasa)\", \"Tajikistan\", \"Jamaica\", \"Cabo Verde\", \"Botswana\", \"Estonia\", \"Haiti\", \"Zimbabwe\", \"Gabon\", \"Malta\", \"Cyprus\", \"Mauritania\", \"Cuba\", \"Bahamas\", \"Syria\", \"Trinidad and Tobago\", \"Andorra\", \"Eswatini\", \"Malawi\", \"Nicaragua\", \"Djibouti\", \"Congo (Brazzaville)\", \"Rwanda\", \"Suriname\", \"Iceland\", \"Equatorial Guinea\", \"Belize\", \"Guyana\", \"Central African Republic\", \"Uruguay\", \"Somalia\", \"Mali\", \"Thailand\", \"Gambia\", \"South Sudan\", \"Benin\", \"Togo\", \"Burkina Faso\", \"Guinea-Bissau\", \"Sierra Leone\", \"Yemen\", \"Lesotho\", \"New Zealand\", \"Chad\", \"Liberia\", \"San Marino\", \"Niger\", \"Vietnam\", \"Liechtenstein\", \"Sao Tome and Principe\", \"Diamond Princess\", \"Burundi\", \"Taiwan*\", \"Mongolia\", \"Papua New Guinea\", \"Comoros\", \"Monaco\", \"Eritrea\", \"Tanzania\", \"Mauritius\", \"Bhutan\", \"Cambodia\", \"Barbados\", \"Saint Lucia\", \"Seychelles\", \"Brunei\", \"Antigua and Barbuda\", \"Saint Vincent and the Grenadines\", \"Dominica\", \"Grenada\", \"Fiji\", \"Timor-Leste\", \"Holy See\", \"Laos\", \"Saint Kitts and Nevis\", \"Solomon Islands\", \"Western Sahara\", \"MS Zaandam\", \"Marshall Islands\", \"Vanuatu\"], \"legendgroup\": \"\", \"locationmode\": \"country names\", \"locations\": [\"US\", \"India\", \"Brazil\", \"France\", \"Russia\", \"Spain\", \"United Kingdom\", \"Italy\", \"Argentina\", \"Colombia\", \"Mexico\", \"Peru\", \"Germany\", \"Poland\", \"Iran\", \"South Africa\", \"Ukraine\", \"Belgium\", \"Chile\", \"Iraq\", \"Indonesia\", \"Czechia\", \"Netherlands\", \"Bangladesh\", \"Turkey\", \"Philippines\", \"Romania\", \"Pakistan\", \"Saudi Arabia\", \"Canada\", \"Israel\", \"Morocco\", \"Switzerland\", \"Portugal\", \"Austria\", \"Nepal\", \"Sweden\", \"Ecuador\", \"Jordan\", \"Hungary\", \"United Arab Emirates\", \"Panama\", \"Bolivia\", \"Kuwait\", \"Dominican Republic\", \"Qatar\", \"Japan\", \"Costa Rica\", \"Kazakhstan\", \"Armenia\", \"Belarus\", \"Oman\", \"Bulgaria\", \"Guatemala\", \"Serbia\", \"Lebanon\", \"Egypt\", \"Ethiopia\", \"Honduras\", \"Georgia\", \"Croatia\", \"Venezuela\", \"Moldova\", \"Slovakia\", \"China\", \"Greece\", \"Azerbaijan\", \"Tunisia\", \"Bahrain\", \"Bosnia and Herzegovina\", \"Burma\", \"Libya\", \"Kenya\", \"Paraguay\", \"Algeria\", \"Uzbekistan\", \"West Bank and Gaza\", \"Denmark\", \"Ireland\", \"Kyrgyzstan\", \"Nigeria\", \"Slovenia\", \"Singapore\", \"Malaysia\", \"North Macedonia\", \"Ghana\", \"Lithuania\", \"Afghanistan\", \"El Salvador\", \"Kosovo\", \"Norway\", \"Albania\", \"Korea, South\", \"Montenegro\", \"Luxembourg\", \"Australia\", \"Cameroon\", \"Finland\", \"Cote d'Ivoire\", \"Sri Lanka\", \"Uganda\", \"Zambia\", \"Madagascar\", \"Senegal\", \"Sudan\", \"Mozambique\", \"Angola\", \"Namibia\", \"Guinea\", \"Latvia\", \"Maldives\", \"Congo (Kinshasa)\", \"Tajikistan\", \"Jamaica\", \"Cabo Verde\", \"Botswana\", \"Estonia\", \"Haiti\", \"Zimbabwe\", \"Gabon\", \"Malta\", \"Cyprus\", \"Mauritania\", \"Cuba\", \"Bahamas\", \"Syria\", \"Trinidad and Tobago\", \"Andorra\", \"Eswatini\", \"Malawi\", \"Nicaragua\", \"Djibouti\", \"Congo (Brazzaville)\", \"Rwanda\", \"Suriname\", \"Iceland\", \"Equatorial Guinea\", \"Belize\", \"Guyana\", \"Central African Republic\", \"Uruguay\", \"Somalia\", \"Mali\", \"Thailand\", \"Gambia\", \"South Sudan\", \"Benin\", \"Togo\", \"Burkina Faso\", \"Guinea-Bissau\", \"Sierra Leone\", \"Yemen\", \"Lesotho\", \"New Zealand\", \"Chad\", \"Liberia\", \"San Marino\", \"Niger\", \"Vietnam\", \"Liechtenstein\", \"Sao Tome and Principe\", \"Diamond Princess\", \"Burundi\", \"Taiwan*\", \"Mongolia\", \"Papua New Guinea\", \"Comoros\", \"Monaco\", \"Eritrea\", \"Tanzania\", \"Mauritius\", \"Bhutan\", \"Cambodia\", \"Barbados\", \"Saint Lucia\", \"Seychelles\", \"Brunei\", \"Antigua and Barbuda\", \"Saint Vincent and the Grenadines\", \"Dominica\", \"Grenada\", \"Fiji\", \"Timor-Leste\", \"Holy See\", \"Laos\", \"Saint Kitts and Nevis\", \"Solomon Islands\", \"Western Sahara\", \"MS Zaandam\", \"Marshall Islands\", \"Vanuatu\"], \"marker\": {\"color\": [12088410, 9095806, 6052786, 2178023, 2047563, 1556730, 1497135, 1380531, 1366182, 1240493, 1025969, 948081, 927990, 843475, 841308, 765409, 629850, 556904, 539143, 533555, 493308, 490750, 486820, 445281, 440805, 416852, 412808, 374173, 355034, 329084, 328397, 320962, 290601, 255970, 241962, 218639, 208295, 184876, 178161, 170298, 157785, 153577, 143922, 139734, 137770, 137062, 130871, 129418, 125466, 124839, 122435, 121360, 120697, 118417, 116125, 115283, 112676, 105352, 104435, 100684, 100410, 99435, 96689, 95257, 92037, 90121, 89898, 87471, 85591, 79309, 77848, 76808, 76404, 75857, 73774, 71431, 70254, 70152, 70143, 69149, 66228, 64284, 58148, 53679, 53631, 50717, 44740, 44503, 37250, 33588, 32352, 32196, 30733, 30653, 29762, 27821, 23528, 21216, 21126, 19771, 17667, 17394, 17310, 15865, 15839, 14981, 14413, 13811, 12798, 12744, 12578, 12180, 11854, 10240, 10234, 9594, 9375, 9214, 9172, 9131, 8822, 8456, 8096, 7798, 7395, 7154, 6324, 6207, 6205, 6003, 5725, 5661, 5632, 5620, 5295, 5269, 5130, 5110, 5093, 4911, 4564, 4382, 4206, 3913, 3726, 3047, 2916, 2829, 2703, 2421, 2405, 2093, 2085, 2028, 1633, 1551, 1395, 1351, 1306, 1109, 979, 712, 656, 611, 608, 604, 596, 581, 551, 509, 494, 379, 306, 255, 204, 163, 148, 139, 84, 72, 41, 35, 30, 27, 25, 19, 16, 10, 9, 4, 1], \"coloraxis\": \"coloraxis\", \"size\": [12088410, 9095806, 6052786, 2178023, 2047563, 1556730, 1497135, 1380531, 1366182, 1240493, 1025969, 948081, 927990, 843475, 841308, 765409, 629850, 556904, 539143, 533555, 493308, 490750, 486820, 445281, 440805, 416852, 412808, 374173, 355034, 329084, 328397, 320962, 290601, 255970, 241962, 218639, 208295, 184876, 178161, 170298, 157785, 153577, 143922, 139734, 137770, 137062, 130871, 129418, 125466, 124839, 122435, 121360, 120697, 118417, 116125, 115283, 112676, 105352, 104435, 100684, 100410, 99435, 96689, 95257, 92037, 90121, 89898, 87471, 85591, 79309, 77848, 76808, 76404, 75857, 73774, 71431, 70254, 70152, 70143, 69149, 66228, 64284, 58148, 53679, 53631, 50717, 44740, 44503, 37250, 33588, 32352, 32196, 30733, 30653, 29762, 27821, 23528, 21216, 21126, 19771, 17667, 17394, 17310, 15865, 15839, 14981, 14413, 13811, 12798, 12744, 12578, 12180, 11854, 10240, 10234, 9594, 9375, 9214, 9172, 9131, 8822, 8456, 8096, 7798, 7395, 7154, 6324, 6207, 6205, 6003, 5725, 5661, 5632, 5620, 5295, 5269, 5130, 5110, 5093, 4911, 4564, 4382, 4206, 3913, 3726, 3047, 2916, 2829, 2703, 2421, 2405, 2093, 2085, 2028, 1633, 1551, 1395, 1351, 1306, 1109, 979, 712, 656, 611, 608, 604, 596, 581, 551, 509, 494, 379, 306, 255, 204, 163, 148, 139, 84, 72, 41, 35, 30, 27, 25, 19, 16, 10, 9, 4, 1], \"sizemode\": \"area\", \"sizeref\": 7555.25625, \"symbol\": \"circle\"}, \"mode\": \"markers\", \"name\": \"\", \"showlegend\": false, \"type\": \"scattergeo\"}],                        {\"coloraxis\": {\"colorbar\": {\"title\": {\"text\": \"Confirmed\"}}, \"colorscale\": [[0.0, \"#0d0887\"], [0.1111111111111111, \"#46039f\"], [0.2222222222222222, \"#7201a8\"], [0.3333333333333333, \"#9c179e\"], [0.4444444444444444, \"#bd3786\"], [0.5555555555555556, \"#d8576b\"], [0.6666666666666666, \"#ed7953\"], [0.7777777777777778, \"#fb9f3a\"], [0.8888888888888888, \"#fdca26\"], [1.0, \"#f0f921\"]]}, \"geo\": {\"center\": {}, \"domain\": {\"x\": [0.0, 1.0], \"y\": [0.0, 1.0]}}, \"legend\": {\"itemsizing\": \"constant\", \"tracegroupgap\": 0}, \"margin\": {\"t\": 60}, \"template\": {\"data\": {\"bar\": [{\"error_x\": {\"color\": \"#f2f5fa\"}, \"error_y\": {\"color\": \"#f2f5fa\"}, \"marker\": {\"line\": {\"color\": \"rgb(17,17,17)\", \"width\": 0.5}}, \"type\": \"bar\"}], \"barpolar\": [{\"marker\": {\"line\": {\"color\": \"rgb(17,17,17)\", \"width\": 0.5}}, \"type\": \"barpolar\"}], \"carpet\": [{\"aaxis\": {\"endlinecolor\": \"#A2B1C6\", \"gridcolor\": \"#506784\", \"linecolor\": \"#506784\", \"minorgridcolor\": \"#506784\", \"startlinecolor\": \"#A2B1C6\"}, \"baxis\": {\"endlinecolor\": \"#A2B1C6\", \"gridcolor\": \"#506784\", \"linecolor\": \"#506784\", \"minorgridcolor\": \"#506784\", \"startlinecolor\": \"#A2B1C6\"}, \"type\": \"carpet\"}], \"choropleth\": [{\"colorbar\": {\"outlinewidth\": 0, \"ticks\": \"\"}, \"type\": \"choropleth\"}], \"contour\": [{\"colorbar\": {\"outlinewidth\": 0, \"ticks\": \"\"}, \"colorscale\": [[0.0, \"#0d0887\"], [0.1111111111111111, \"#46039f\"], [0.2222222222222222, \"#7201a8\"], [0.3333333333333333, \"#9c179e\"], [0.4444444444444444, \"#bd3786\"], [0.5555555555555556, \"#d8576b\"], [0.6666666666666666, \"#ed7953\"], [0.7777777777777778, \"#fb9f3a\"], [0.8888888888888888, \"#fdca26\"], [1.0, \"#f0f921\"]], \"type\": \"contour\"}], \"contourcarpet\": [{\"colorbar\": {\"outlinewidth\": 0, \"ticks\": \"\"}, \"type\": \"contourcarpet\"}], \"heatmap\": [{\"colorbar\": {\"outlinewidth\": 0, \"ticks\": \"\"}, \"colorscale\": [[0.0, \"#0d0887\"], [0.1111111111111111, \"#46039f\"], [0.2222222222222222, \"#7201a8\"], [0.3333333333333333, \"#9c179e\"], [0.4444444444444444, \"#bd3786\"], [0.5555555555555556, \"#d8576b\"], [0.6666666666666666, \"#ed7953\"], [0.7777777777777778, \"#fb9f3a\"], [0.8888888888888888, \"#fdca26\"], [1.0, \"#f0f921\"]], \"type\": \"heatmap\"}], \"heatmapgl\": [{\"colorbar\": {\"outlinewidth\": 0, \"ticks\": \"\"}, \"colorscale\": [[0.0, \"#0d0887\"], [0.1111111111111111, \"#46039f\"], [0.2222222222222222, \"#7201a8\"], [0.3333333333333333, \"#9c179e\"], [0.4444444444444444, \"#bd3786\"], [0.5555555555555556, \"#d8576b\"], [0.6666666666666666, \"#ed7953\"], [0.7777777777777778, \"#fb9f3a\"], [0.8888888888888888, \"#fdca26\"], [1.0, \"#f0f921\"]], \"type\": \"heatmapgl\"}], \"histogram\": [{\"marker\": {\"colorbar\": {\"outlinewidth\": 0, \"ticks\": \"\"}}, \"type\": \"histogram\"}], \"histogram2d\": [{\"colorbar\": {\"outlinewidth\": 0, \"ticks\": \"\"}, \"colorscale\": [[0.0, \"#0d0887\"], [0.1111111111111111, \"#46039f\"], [0.2222222222222222, \"#7201a8\"], [0.3333333333333333, \"#9c179e\"], [0.4444444444444444, \"#bd3786\"], [0.5555555555555556, \"#d8576b\"], [0.6666666666666666, \"#ed7953\"], [0.7777777777777778, \"#fb9f3a\"], [0.8888888888888888, \"#fdca26\"], [1.0, \"#f0f921\"]], \"type\": \"histogram2d\"}], \"histogram2dcontour\": [{\"colorbar\": {\"outlinewidth\": 0, \"ticks\": \"\"}, \"colorscale\": [[0.0, \"#0d0887\"], [0.1111111111111111, \"#46039f\"], [0.2222222222222222, \"#7201a8\"], [0.3333333333333333, \"#9c179e\"], [0.4444444444444444, \"#bd3786\"], [0.5555555555555556, \"#d8576b\"], [0.6666666666666666, \"#ed7953\"], [0.7777777777777778, \"#fb9f3a\"], [0.8888888888888888, \"#fdca26\"], [1.0, \"#f0f921\"]], \"type\": \"histogram2dcontour\"}], \"mesh3d\": [{\"colorbar\": {\"outlinewidth\": 0, \"ticks\": \"\"}, \"type\": \"mesh3d\"}], \"parcoords\": [{\"line\": {\"colorbar\": {\"outlinewidth\": 0, \"ticks\": \"\"}}, \"type\": \"parcoords\"}], \"pie\": [{\"automargin\": true, \"type\": \"pie\"}], \"scatter\": [{\"marker\": {\"line\": {\"color\": \"#283442\"}}, \"type\": \"scatter\"}], \"scatter3d\": [{\"line\": {\"colorbar\": {\"outlinewidth\": 0, \"ticks\": \"\"}}, \"marker\": {\"colorbar\": {\"outlinewidth\": 0, \"ticks\": \"\"}}, \"type\": \"scatter3d\"}], \"scattercarpet\": [{\"marker\": {\"colorbar\": {\"outlinewidth\": 0, \"ticks\": \"\"}}, \"type\": \"scattercarpet\"}], \"scattergeo\": [{\"marker\": {\"colorbar\": {\"outlinewidth\": 0, \"ticks\": \"\"}}, \"type\": \"scattergeo\"}], \"scattergl\": [{\"marker\": {\"line\": {\"color\": \"#283442\"}}, \"type\": \"scattergl\"}], \"scattermapbox\": [{\"marker\": {\"colorbar\": {\"outlinewidth\": 0, \"ticks\": \"\"}}, \"type\": \"scattermapbox\"}], \"scatterpolar\": [{\"marker\": {\"colorbar\": {\"outlinewidth\": 0, \"ticks\": \"\"}}, \"type\": \"scatterpolar\"}], \"scatterpolargl\": [{\"marker\": {\"colorbar\": {\"outlinewidth\": 0, \"ticks\": \"\"}}, \"type\": \"scatterpolargl\"}], \"scatterternary\": [{\"marker\": {\"colorbar\": {\"outlinewidth\": 0, \"ticks\": \"\"}}, \"type\": \"scatterternary\"}], \"surface\": [{\"colorbar\": {\"outlinewidth\": 0, \"ticks\": \"\"}, \"colorscale\": [[0.0, \"#0d0887\"], [0.1111111111111111, \"#46039f\"], [0.2222222222222222, \"#7201a8\"], [0.3333333333333333, \"#9c179e\"], [0.4444444444444444, \"#bd3786\"], [0.5555555555555556, \"#d8576b\"], [0.6666666666666666, \"#ed7953\"], [0.7777777777777778, \"#fb9f3a\"], [0.8888888888888888, \"#fdca26\"], [1.0, \"#f0f921\"]], \"type\": \"surface\"}], \"table\": [{\"cells\": {\"fill\": {\"color\": \"#506784\"}, \"line\": {\"color\": \"rgb(17,17,17)\"}}, \"header\": {\"fill\": {\"color\": \"#2a3f5f\"}, \"line\": {\"color\": \"rgb(17,17,17)\"}}, \"type\": \"table\"}]}, \"layout\": {\"annotationdefaults\": {\"arrowcolor\": \"#f2f5fa\", \"arrowhead\": 0, \"arrowwidth\": 1}, \"coloraxis\": {\"colorbar\": {\"outlinewidth\": 0, \"ticks\": \"\"}}, \"colorscale\": {\"diverging\": [[0, \"#8e0152\"], [0.1, \"#c51b7d\"], [0.2, \"#de77ae\"], [0.3, \"#f1b6da\"], [0.4, \"#fde0ef\"], [0.5, \"#f7f7f7\"], [0.6, \"#e6f5d0\"], [0.7, \"#b8e186\"], [0.8, \"#7fbc41\"], [0.9, \"#4d9221\"], [1, \"#276419\"]], \"sequential\": [[0.0, \"#0d0887\"], [0.1111111111111111, \"#46039f\"], [0.2222222222222222, \"#7201a8\"], [0.3333333333333333, \"#9c179e\"], [0.4444444444444444, \"#bd3786\"], [0.5555555555555556, \"#d8576b\"], [0.6666666666666666, \"#ed7953\"], [0.7777777777777778, \"#fb9f3a\"], [0.8888888888888888, \"#fdca26\"], [1.0, \"#f0f921\"]], \"sequentialminus\": [[0.0, \"#0d0887\"], [0.1111111111111111, \"#46039f\"], [0.2222222222222222, \"#7201a8\"], [0.3333333333333333, \"#9c179e\"], [0.4444444444444444, \"#bd3786\"], [0.5555555555555556, \"#d8576b\"], [0.6666666666666666, \"#ed7953\"], [0.7777777777777778, \"#fb9f3a\"], [0.8888888888888888, \"#fdca26\"], [1.0, \"#f0f921\"]]}, \"colorway\": [\"#636efa\", \"#EF553B\", \"#00cc96\", \"#ab63fa\", \"#FFA15A\", \"#19d3f3\", \"#FF6692\", \"#B6E880\", \"#FF97FF\", \"#FECB52\"], \"font\": {\"color\": \"#f2f5fa\"}, \"geo\": {\"bgcolor\": \"rgb(17,17,17)\", \"lakecolor\": \"rgb(17,17,17)\", \"landcolor\": \"rgb(17,17,17)\", \"showlakes\": true, \"showland\": true, \"subunitcolor\": \"#506784\"}, \"hoverlabel\": {\"align\": \"left\"}, \"hovermode\": \"closest\", \"mapbox\": {\"style\": \"dark\"}, \"paper_bgcolor\": \"rgb(17,17,17)\", \"plot_bgcolor\": \"rgb(17,17,17)\", \"polar\": {\"angularaxis\": {\"gridcolor\": \"#506784\", \"linecolor\": \"#506784\", \"ticks\": \"\"}, \"bgcolor\": \"rgb(17,17,17)\", \"radialaxis\": {\"gridcolor\": \"#506784\", \"linecolor\": \"#506784\", \"ticks\": \"\"}}, \"scene\": {\"xaxis\": {\"backgroundcolor\": \"rgb(17,17,17)\", \"gridcolor\": \"#506784\", \"gridwidth\": 2, \"linecolor\": \"#506784\", \"showbackground\": true, \"ticks\": \"\", \"zerolinecolor\": \"#C8D4E3\"}, \"yaxis\": {\"backgroundcolor\": \"rgb(17,17,17)\", \"gridcolor\": \"#506784\", \"gridwidth\": 2, \"linecolor\": \"#506784\", \"showbackground\": true, \"ticks\": \"\", \"zerolinecolor\": \"#C8D4E3\"}, \"zaxis\": {\"backgroundcolor\": \"rgb(17,17,17)\", \"gridcolor\": \"#506784\", \"gridwidth\": 2, \"linecolor\": \"#506784\", \"showbackground\": true, \"ticks\": \"\", \"zerolinecolor\": \"#C8D4E3\"}}, \"shapedefaults\": {\"line\": {\"color\": \"#f2f5fa\"}}, \"sliderdefaults\": {\"bgcolor\": \"#C8D4E3\", \"bordercolor\": \"rgb(17,17,17)\", \"borderwidth\": 1, \"tickwidth\": 0}, \"ternary\": {\"aaxis\": {\"gridcolor\": \"#506784\", \"linecolor\": \"#506784\", \"ticks\": \"\"}, \"baxis\": {\"gridcolor\": \"#506784\", \"linecolor\": \"#506784\", \"ticks\": \"\"}, \"bgcolor\": \"rgb(17,17,17)\", \"caxis\": {\"gridcolor\": \"#506784\", \"linecolor\": \"#506784\", \"ticks\": \"\"}}, \"title\": {\"x\": 0.05}, \"updatemenudefaults\": {\"bgcolor\": \"#506784\", \"borderwidth\": 0}, \"xaxis\": {\"automargin\": true, \"gridcolor\": \"#283442\", \"linecolor\": \"#506784\", \"ticks\": \"\", \"title\": {\"standoff\": 15}, \"zerolinecolor\": \"#283442\", \"zerolinewidth\": 2}, \"yaxis\": {\"automargin\": true, \"gridcolor\": \"#283442\", \"linecolor\": \"#506784\", \"ticks\": \"\", \"title\": {\"standoff\": 15}, \"zerolinecolor\": \"#283442\", \"zerolinewidth\": 2}}}},                        {\"responsive\": true}                    ).then(function(){\n",
       "                            \n",
       "var gd = document.getElementById('45ffe300-93ef-4ec4-a223-d7c6c379b24c');\n",
       "var x = new MutationObserver(function (mutations, observer) {{\n",
       "        var display = window.getComputedStyle(gd).display;\n",
       "        if (!display || display === 'none') {{\n",
       "            console.log([gd, 'removed!']);\n",
       "            Plotly.purge(gd);\n",
       "            observer.disconnect();\n",
       "        }}\n",
       "}});\n",
       "\n",
       "// Listen for the removal of the full notebook cells\n",
       "var notebookContainer = gd.closest('#notebook-container');\n",
       "if (notebookContainer) {{\n",
       "    x.observe(notebookContainer, {childList: true});\n",
       "}}\n",
       "\n",
       "// Listen for the clearing of the current output cell\n",
       "var outputEl = gd.closest('.output');\n",
       "if (outputEl) {{\n",
       "    x.observe(outputEl, {childList: true});\n",
       "}}\n",
       "\n",
       "                        })                };                });            </script>        </div>"
      ]
     },
     "metadata": {},
     "output_type": "display_data"
    }
   ],
   "source": [
    "import plotly.express as px\n",
    "from data import countries_df\n",
    "\n",
    "options = ['equirectangular', 'mercator', 'orthographic', 'natural earth', 'kavrayskiy7', 'miller', 'robinson', 'eckert4', 'azimuthal equal area', 'azimuthal equidistant', 'conic equal area', 'conic conformal', 'conic equidistant', 'gnomonic', 'stereographic', 'mollweide', 'hammer', 'transverse mercator', 'albers usa', 'winkel tripel', 'aitoff', 'sinusoidal']\n",
    "\n",
    "for projection  in projections:\n",
    "    fig = px.scatter_geo(\n",
    "        countries_df,\n",
    "        size=\"Confirmed\",\n",
    "        size_max=40,\n",
    "        projection=projection,\n",
    "        locations=\"Country_Region\",\n",
    "        locationmode=\"country names\",\n",
    "        color=\"Confirmed\",\n",
    "        hover_name=\"Country_Region\",\n",
    "        hover_data={\n",
    "            \"Country_Region\": False,\n",
    "            \"Confirmed\": \":,3f\",\n",
    "            \"Recovered\": \":,3f\",\n",
    "            \"Deaths\": \":,3f\",\n",
    "        },\n",
    "        template=\"plotly_dark\"\n",
    "    )\n",
    "\n",
    "fig.show()"
   ]
  },
  {
   "cell_type": "code",
   "execution_count": null,
   "metadata": {},
   "outputs": [],
   "source": []
  }
 ],
 "metadata": {
  "kernelspec": {
   "display_name": "Python 3",
   "language": "python",
   "name": "python3"
  },
  "language_info": {
   "codemirror_mode": {
    "name": "ipython",
    "version": 3
   },
   "file_extension": ".py",
   "mimetype": "text/x-python",
   "name": "python",
   "nbconvert_exporter": "python",
   "pygments_lexer": "ipython3",
   "version": "3.8.5"
  }
 },
 "nbformat": 4,
 "nbformat_minor": 4
}
